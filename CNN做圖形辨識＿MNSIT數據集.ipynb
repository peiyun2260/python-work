{
 "cells": [
  {
   "cell_type": "code",
   "execution_count": 1,
   "id": "70558d59",
   "metadata": {},
   "outputs": [],
   "source": [
    "%matplotlib inline\n",
    "\n",
    "import numpy as np\n",
    "import matplotlib.pyplot as plt\n",
    "import pandas as pd"
   ]
  },
  {
   "cell_type": "markdown",
   "id": "8b0eac83",
   "metadata": {},
   "source": [
    "## 利用卷積神經網路CNN做手寫辨識"
   ]
  },
  {
   "cell_type": "code",
   "execution_count": 72,
   "id": "f22cd513",
   "metadata": {},
   "outputs": [],
   "source": [
    "from tensorflow.keras.utils import to_categorical\n",
    "from tensorflow.keras.models import Sequential\n",
    "from tensorflow.keras.layers import Conv2D, MaxPooling2D\n",
    "from tensorflow.keras.layers import Dense, Flatten\n",
    "from tensorflow.keras.optimizers import SGD"
   ]
  },
  {
   "cell_type": "code",
   "execution_count": 4,
   "id": "3d0f1a5c",
   "metadata": {},
   "outputs": [
    {
     "name": "stderr",
     "output_type": "stream",
     "text": [
      "2022-11-17 14:40:19.421973: I tensorflow/core/platform/cpu_feature_guard.cc:193] This TensorFlow binary is optimized with oneAPI Deep Neural Network Library (oneDNN) to use the following CPU instructions in performance-critical operations:  AVX2 FMA\n",
      "To enable them in other operations, rebuild TensorFlow with the appropriate compiler flags.\n"
     ]
    },
    {
     "data": {
      "text/plain": [
       "''"
      ]
     },
     "execution_count": 4,
     "metadata": {},
     "output_type": "execute_result"
    }
   ],
   "source": [
    "import tensorflow as tf\n",
    "tf.test.gpu_device_name()"
   ]
  },
  {
   "cell_type": "markdown",
   "id": "2547e16e",
   "metadata": {},
   "source": [
    "#### 1. 讀入 MNSIT 數據集"
   ]
  },
  {
   "cell_type": "code",
   "execution_count": 73,
   "id": "da4268d4",
   "metadata": {},
   "outputs": [],
   "source": [
    "from tensorflow.keras.datasets import mnist\n",
    "(x_train,y_train), (x_test,y_test) = mnist.load_data()"
   ]
  },
  {
   "cell_type": "markdown",
   "id": "76dbe9f2",
   "metadata": {},
   "source": [
    "#### 2. 資料整理"
   ]
  },
  {
   "cell_type": "code",
   "execution_count": 74,
   "id": "09f68aa1",
   "metadata": {},
   "outputs": [],
   "source": [
    "x_train = x_train.reshape(60000, 28,28,1)/255\n",
    "x_test = x_test.reshape(10000, 28,28,1)/255\n",
    "y_train = to_categorical(y_train, 10)\n",
    "y_test = to_categorical(y_test, 10)"
   ]
  },
  {
   "cell_type": "markdown",
   "id": "02c6f2c6",
   "metadata": {},
   "source": [
    "#### 3. 打造神經網路"
   ]
  },
  {
   "cell_type": "code",
   "execution_count": 75,
   "id": "ae622bd9",
   "metadata": {},
   "outputs": [],
   "source": [
    "model = Sequential()"
   ]
  },
  {
   "cell_type": "code",
   "execution_count": 76,
   "id": "2d595382",
   "metadata": {},
   "outputs": [],
   "source": [
    "model.add(Conv2D(16, (3,3), padding='same',\n",
    "                input_shape=(28,28,1),\n",
    "                activation='ELU'))"
   ]
  },
  {
   "cell_type": "code",
   "execution_count": 77,
   "id": "c35abf56",
   "metadata": {},
   "outputs": [],
   "source": [
    "model.add(MaxPooling2D(pool_size=(2,2)))"
   ]
  },
  {
   "cell_type": "code",
   "execution_count": 78,
   "id": "b02de72c",
   "metadata": {},
   "outputs": [],
   "source": [
    "model.add(Conv2D(32, (3,3), padding='same',\n",
    "                activation='ELU'))"
   ]
  },
  {
   "cell_type": "code",
   "execution_count": 79,
   "id": "61b962f0",
   "metadata": {},
   "outputs": [],
   "source": [
    "model.add(MaxPooling2D(pool_size=(2,2)))"
   ]
  },
  {
   "cell_type": "code",
   "execution_count": 80,
   "id": "be50610f",
   "metadata": {},
   "outputs": [],
   "source": [
    "model.add(Conv2D(64, (3,3), padding='same',\n",
    "                activation='ELU'))"
   ]
  },
  {
   "cell_type": "code",
   "execution_count": 81,
   "id": "24dd128a",
   "metadata": {},
   "outputs": [],
   "source": [
    "model.add(MaxPooling2D(pool_size=(2,2)))"
   ]
  },
  {
   "cell_type": "code",
   "execution_count": 82,
   "id": "902658eb",
   "metadata": {},
   "outputs": [],
   "source": [
    "model.add(Flatten()) "
   ]
  },
  {
   "cell_type": "code",
   "execution_count": 83,
   "id": "436e357c",
   "metadata": {},
   "outputs": [],
   "source": [
    "model.add(Dense(64, activation='ELU'))"
   ]
  },
  {
   "cell_type": "code",
   "execution_count": 84,
   "id": "53c3ec96",
   "metadata": {},
   "outputs": [],
   "source": [
    "model.add(Dense(10, activation='softmax'))"
   ]
  },
  {
   "cell_type": "code",
   "execution_count": 85,
   "id": "30fbf014",
   "metadata": {},
   "outputs": [
    {
     "name": "stdout",
     "output_type": "stream",
     "text": [
      "Model: \"sequential_5\"\n",
      "_________________________________________________________________\n",
      " Layer (type)                Output Shape              Param #   \n",
      "=================================================================\n",
      " conv2d_15 (Conv2D)          (None, 28, 28, 16)        160       \n",
      "                                                                 \n",
      " max_pooling2d_15 (MaxPoolin  (None, 14, 14, 16)       0         \n",
      " g2D)                                                            \n",
      "                                                                 \n",
      " conv2d_16 (Conv2D)          (None, 14, 14, 32)        4640      \n",
      "                                                                 \n",
      " max_pooling2d_16 (MaxPoolin  (None, 7, 7, 32)         0         \n",
      " g2D)                                                            \n",
      "                                                                 \n",
      " conv2d_17 (Conv2D)          (None, 7, 7, 64)          18496     \n",
      "                                                                 \n",
      " max_pooling2d_17 (MaxPoolin  (None, 3, 3, 64)         0         \n",
      " g2D)                                                            \n",
      "                                                                 \n",
      " flatten_5 (Flatten)         (None, 576)               0         \n",
      "                                                                 \n",
      " dense_8 (Dense)             (None, 64)                36928     \n",
      "                                                                 \n",
      " dense_9 (Dense)             (None, 10)                650       \n",
      "                                                                 \n",
      "=================================================================\n",
      "Total params: 60,874\n",
      "Trainable params: 60,874\n",
      "Non-trainable params: 0\n",
      "_________________________________________________________________\n"
     ]
    }
   ],
   "source": [
    "model.summary()"
   ]
  },
  {
   "cell_type": "code",
   "execution_count": 86,
   "id": "8a948a00",
   "metadata": {},
   "outputs": [],
   "source": [
    "model.compile(loss='mse', optimizer=SGD(learning_rate=0.087),\n",
    "             metrics=['accuracy'])"
   ]
  },
  {
   "cell_type": "code",
   "execution_count": 87,
   "id": "5d8ac4a9",
   "metadata": {},
   "outputs": [
    {
     "name": "stdout",
     "output_type": "stream",
     "text": [
      "Epoch 1/12\n",
      "469/469 [==============================] - 46s 96ms/step - loss: 0.0892 - accuracy: 0.2696\n",
      "Epoch 2/12\n",
      "469/469 [==============================] - 46s 98ms/step - loss: 0.0830 - accuracy: 0.4546\n",
      "Epoch 3/12\n",
      "469/469 [==============================] - 50s 107ms/step - loss: 0.0422 - accuracy: 0.7375\n",
      "Epoch 4/12\n",
      "469/469 [==============================] - 52s 111ms/step - loss: 0.0187 - accuracy: 0.8844\n",
      "Epoch 5/12\n",
      "469/469 [==============================] - 48s 102ms/step - loss: 0.0133 - accuracy: 0.9166\n",
      "Epoch 6/12\n",
      "469/469 [==============================] - 51s 108ms/step - loss: 0.0106 - accuracy: 0.9325\n",
      "Epoch 7/12\n",
      "469/469 [==============================] - 57s 122ms/step - loss: 0.0090 - accuracy: 0.9434\n",
      "Epoch 8/12\n",
      "469/469 [==============================] - 47s 100ms/step - loss: 0.0079 - accuracy: 0.9508\n",
      "Epoch 9/12\n",
      "469/469 [==============================] - 50s 106ms/step - loss: 0.0071 - accuracy: 0.9559\n",
      "Epoch 10/12\n",
      "469/469 [==============================] - 62s 133ms/step - loss: 0.0064 - accuracy: 0.9595\n",
      "Epoch 11/12\n",
      "469/469 [==============================] - 44s 94ms/step - loss: 0.0059 - accuracy: 0.9633\n",
      "Epoch 12/12\n",
      "469/469 [==============================] - 43s 92ms/step - loss: 0.0055 - accuracy: 0.9651\n"
     ]
    },
    {
     "data": {
      "text/plain": [
       "<keras.callbacks.History at 0x7fefc18d1fd0>"
      ]
     },
     "execution_count": 87,
     "metadata": {},
     "output_type": "execute_result"
    }
   ],
   "source": [
    "model.fit(x_train, y_train, batch_size=128, epochs=12)"
   ]
  },
  {
   "cell_type": "code",
   "execution_count": 88,
   "id": "9ee7cbd1",
   "metadata": {},
   "outputs": [
    {
     "name": "stdout",
     "output_type": "stream",
     "text": [
      "313/313 [==============================] - 4s 11ms/step\n"
     ]
    }
   ],
   "source": [
    "y_predict = np.argmax(model.predict(x_test), axis=-1)"
   ]
  },
  {
   "cell_type": "code",
   "execution_count": 89,
   "id": "ab348ca8",
   "metadata": {},
   "outputs": [
    {
     "name": "stdout",
     "output_type": "stream",
     "text": [
      "313/313 [==============================] - 3s 8ms/step - loss: 0.0050 - accuracy: 0.9683\n"
     ]
    }
   ],
   "source": [
    "loss, acc = model.evaluate(x_test, y_test)"
   ]
  },
  {
   "cell_type": "code",
   "execution_count": 90,
   "id": "588d0070",
   "metadata": {},
   "outputs": [
    {
     "name": "stdout",
     "output_type": "stream",
     "text": [
      "測試資料的正確率為 96.83%\n"
     ]
    }
   ],
   "source": [
    "print(f'測試資料的正確率為 {acc*100:.2f}%')"
   ]
  },
  {
   "cell_type": "code",
   "execution_count": 91,
   "id": "3e664eee",
   "metadata": {},
   "outputs": [],
   "source": [
    "def my_predict(n):\n",
    "    print('我的CNN 預測是', y_predict[n])\n",
    "    X = x_test[n].reshape(28,28)\n",
    "    plt.imshow(X, cmap='Greys')"
   ]
  },
  {
   "cell_type": "code",
   "execution_count": 92,
   "id": "5c5cf0cd",
   "metadata": {},
   "outputs": [],
   "source": [
    "from ipywidgets import interact_manual"
   ]
  },
  {
   "cell_type": "code",
   "execution_count": 93,
   "id": "ded02cfe",
   "metadata": {},
   "outputs": [
    {
     "data": {
      "application/vnd.jupyter.widget-view+json": {
       "model_id": "70348f1f46c84173b6b89305f481dfd6",
       "version_major": 2,
       "version_minor": 0
      },
      "text/plain": [
       "interactive(children=(IntSlider(value=4999, description='n', max=9999), Button(description='Run Interact', sty…"
      ]
     },
     "metadata": {},
     "output_type": "display_data"
    }
   ],
   "source": [
    "interact_manual(my_predict, n=(0, 9999));"
   ]
  },
  {
   "cell_type": "code",
   "execution_count": null,
   "id": "cf1a5c3e",
   "metadata": {},
   "outputs": [],
   "source": []
  }
 ],
 "metadata": {
  "kernelspec": {
   "display_name": "Python 3 (ipykernel)",
   "language": "python",
   "name": "python3"
  },
  "language_info": {
   "codemirror_mode": {
    "name": "ipython",
    "version": 3
   },
   "file_extension": ".py",
   "mimetype": "text/x-python",
   "name": "python",
   "nbconvert_exporter": "python",
   "pygments_lexer": "ipython3",
   "version": "3.9.7"
  }
 },
 "nbformat": 4,
 "nbformat_minor": 5
}
