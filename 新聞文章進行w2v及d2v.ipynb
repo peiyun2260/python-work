{
 "cells": [
  {
   "cell_type": "markdown",
   "metadata": {},
   "source": [
    "### Filter news_content"
   ]
  },
  {
   "cell_type": "code",
   "execution_count": 2,
   "metadata": {},
   "outputs": [],
   "source": [
    "import pandas as pd\n",
    "import re"
   ]
  },
  {
   "cell_type": "code",
   "execution_count": 4,
   "metadata": {},
   "outputs": [],
   "source": [
    "# 讀入每月新聞資料內容\n",
    "\n",
    "df1 = pd.read_json(\"./news/news_202301-02.json\")\n",
    "df3 = pd.read_json(\"./news/news_202303.json\")\n",
    "df4 = pd.read_json(\"./news/news_202304.json\")\n",
    "df5 = pd.read_json(\"./news/news_202305.json\")\n",
    "df6 = pd.read_json(\"./news/news_202306.json\")\n",
    "df7 = pd.read_json(\"./news/news_202307.json\")\n",
    "df8 = pd.read_json(\"./news/news_202308.json\")\n",
    "df9 = pd.read_json(\"./news/news_202309.json\")\n",
    "df10 = pd.read_json(\"./news/news_202310.json\")\n",
    "df11 = pd.read_json(\"./news/news_202311.json\")\n",
    "df12 = pd.read_json(\"./news/news_202312.json\")"
   ]
  },
  {
   "cell_type": "code",
   "execution_count": 5,
   "metadata": {},
   "outputs": [],
   "source": [
    "df = pd.concat([df1,df3,df4,df5,df6,df7,df8,df9,df10,df11,df12],ignore_index=True)"
   ]
  },
  {
   "cell_type": "code",
   "execution_count": 6,
   "metadata": {},
   "outputs": [],
   "source": [
    "# 過濾不需要的字詞\n",
    "\n",
    "def remove_html_tags(text):\n",
    "    html_tags_pattern = re.compile(r'<[^>]+>|&[a-zA-Z0-9]+;|\\n')\n",
    "    text_without_tags = html_tags_pattern.sub('', text)\n",
    "    return text_without_tags\n",
    "\n",
    "df[\"filtered_content\"] = df.news_content.apply(remove_html_tags)"
   ]
  },
  {
   "cell_type": "markdown",
   "metadata": {},
   "source": [
    "### using jieba to tokenize"
   ]
  },
  {
   "cell_type": "code",
   "execution_count": 6,
   "metadata": {},
   "outputs": [],
   "source": [
    "import jieba "
   ]
  },
  {
   "cell_type": "code",
   "execution_count": 7,
   "metadata": {},
   "outputs": [
    {
     "name": "stderr",
     "output_type": "stream",
     "text": [
      "Building prefix dict from /Users/tvbs/Desktop/Python/dict.txt ...\n",
      "Loading model from cache /var/folders/8x/byygknz92y9bmt68dl979xdw0000gp/T/jieba.u5ec43097e27308bdcc6412f06097ed1f.cache\n",
      "Loading model cost 0.395 seconds.\n",
      "Prefix dict has been built successfully.\n"
     ]
    }
   ],
   "source": [
    "jieba.set_dictionary('./dict.txt')\n",
    "jieba.load_userdict('./dict_define.txt')"
   ]
  },
  {
   "cell_type": "code",
   "execution_count": 4,
   "metadata": {},
   "outputs": [],
   "source": [
    "del_words_path = './stops.txt'\n",
    "del_words_list = []\n",
    "with open(del_words_path, 'r', encoding='utf-8-sig') as f:\n",
    "    for line in f.readlines():\n",
    "        del_words_list.append(line.strip())"
   ]
  },
  {
   "cell_type": "code",
   "execution_count": 10,
   "metadata": {},
   "outputs": [],
   "source": [
    "df[\"text\"] = df.filtered_content.apply(jieba.lcut)"
   ]
  },
  {
   "cell_type": "code",
   "execution_count": 11,
   "metadata": {},
   "outputs": [],
   "source": [
    "df.to_json(\"./output/tokenized_2023.json\",orient=\"columns\")"
   ]
  },
  {
   "cell_type": "code",
   "execution_count": 5,
   "metadata": {},
   "outputs": [],
   "source": [
    "text = df.text\n",
    "word_list = []\n",
    "for sublist in text:\n",
    "    filtered_sublist = [word.strip() for word in sublist if word.strip() not in del_words_list]  \n",
    "    word_list.append(filtered_sublist)"
   ]
  },
  {
   "cell_type": "code",
   "execution_count": 8,
   "metadata": {},
   "outputs": [],
   "source": [
    "import csv "
   ]
  },
  {
   "cell_type": "code",
   "execution_count": 10,
   "metadata": {},
   "outputs": [],
   "source": [
    "with open(\"./output/filtered_2023.csv\", mode=\"w\", newline=\"\", encoding=\"utf-8\") as file:\n",
    "    writer = csv.writer(file)\n",
    "    writer.writerows(word_list)  "
   ]
  },
  {
   "cell_type": "markdown",
   "metadata": {},
   "source": [
    "### word embemmding  -- Dov2Vec"
   ]
  },
  {
   "cell_type": "code",
   "execution_count": 19,
   "metadata": {},
   "outputs": [
    {
     "name": "stderr",
     "output_type": "stream",
     "text": [
      "/Users/tvbs/Library/Python/3.9/lib/python/site-packages/urllib3/__init__.py:35: NotOpenSSLWarning: urllib3 v2 only supports OpenSSL 1.1.1+, currently the 'ssl' module is compiled with 'LibreSSL 2.8.3'. See: https://github.com/urllib3/urllib3/issues/3020\n",
      "  warnings.warn(\n"
     ]
    }
   ],
   "source": [
    "import gensim\n",
    "from gensim.models import Word2Vec\n",
    "from gensim.test.utils import common_texts\n",
    "from gensim.models.doc2vec import Doc2Vec, TaggedDocument\n",
    "from gensim.test.utils import get_tmpfile"
   ]
  },
  {
   "cell_type": "code",
   "execution_count": 20,
   "metadata": {},
   "outputs": [],
   "source": [
    "for i in word_list:\n",
    "    documents = [TaggedDocument(doc, [j]) for j, doc in enumerate(i)]"
   ]
  },
  {
   "cell_type": "code",
   "execution_count": 59,
   "metadata": {},
   "outputs": [],
   "source": [
    "model = Doc2Vec(documents,\n",
    "                    vector_size=100,\n",
    "                    alpha=0.025,\n",
    "                    min_alpha=0.00025,\n",
    "                    min_count=5,\n",
    "                    workers=4,\n",
    "                    dm=1)"
   ]
  },
  {
   "cell_type": "code",
   "execution_count": 60,
   "metadata": {},
   "outputs": [],
   "source": [
    "model.train(documents,total_examples=model.corpus_count,epochs=50)"
   ]
  },
  {
   "cell_type": "code",
   "execution_count": 29,
   "metadata": {},
   "outputs": [
    {
     "name": "stdout",
     "output_type": "stream",
     "text": [
      "[-3.47614265e-03 -4.29934217e-03  2.69496441e-03 -3.02094687e-03\n",
      "  1.35074672e-03 -1.01084053e-03 -2.41880026e-03  4.84197075e-03\n",
      "  2.91332603e-03 -4.16212482e-03 -4.02941601e-03 -3.78588127e-04\n",
      " -1.71322469e-03  9.24282649e-04  3.40163056e-03  1.00019097e-03\n",
      "  1.84223056e-04  1.55916868e-03  3.88820819e-03 -3.65319429e-03\n",
      "  2.64653796e-03 -4.87244409e-03 -4.73373290e-03  1.20741129e-03\n",
      "  3.89830000e-03  4.03596321e-03  2.95544509e-03  2.57247081e-03\n",
      "  4.94782254e-03  1.76392973e-03 -4.80976608e-03  3.85881355e-03\n",
      "  5.95429563e-04  5.39318309e-04 -3.14799370e-03  1.59657840e-03\n",
      " -8.32039688e-04  3.47476779e-03  1.26299262e-03 -9.53575072e-04\n",
      "  4.34962939e-03  3.47079523e-03  2.27679382e-03 -4.53739846e-03\n",
      "  4.94543184e-03 -2.94528063e-03 -1.88914151e-03 -1.08825450e-03\n",
      " -2.58052349e-03  1.26856507e-03 -3.87235731e-03 -1.46435562e-03\n",
      "  4.55981353e-03  1.70558633e-03 -3.08632385e-03  1.13228138e-03\n",
      "  1.66258332e-03  2.73680082e-03 -2.23864801e-03 -1.86309731e-03\n",
      " -3.98293929e-03  2.02225382e-03 -2.22374522e-03 -1.00572404e-04\n",
      " -4.98828886e-04 -2.48218304e-03 -1.53101538e-03 -1.26357796e-03\n",
      " -4.11002152e-03  1.18759100e-03 -2.38886010e-03  8.84797599e-04\n",
      " -7.86452903e-04 -3.39308381e-03  3.22386925e-03 -1.23187865e-03\n",
      " -2.79212283e-04  3.79588432e-03 -1.55380007e-03  1.04122162e-04\n",
      "  7.38856208e-04 -2.49111466e-03 -3.42923589e-03 -4.90305340e-03\n",
      " -6.15995552e-04  4.89933928e-03  4.55191964e-03 -1.94511563e-03\n",
      " -1.46191125e-03  4.31952579e-03 -4.11863811e-03 -7.75375956e-05\n",
      "  2.89847027e-03  3.64757888e-03 -4.42070561e-03  2.21516006e-03\n",
      "  3.93240852e-03  7.72358791e-04  2.56062322e-03  2.59106164e-03]\n"
     ]
    }
   ],
   "source": [
    "vector = model.infer_vector(word_list[0])\n",
    "print(vector)"
   ]
  },
  {
   "cell_type": "code",
   "execution_count": 61,
   "metadata": {},
   "outputs": [
    {
     "data": {
      "text/plain": [
       "[(64, 0.16443799436092377),\n",
       " (24, 0.13402006030082703),\n",
       " (32, 0.1264030784368515),\n",
       " (72, 0.11973859369754791),\n",
       " (56, 0.11953184008598328),\n",
       " (21, 0.1131221354007721),\n",
       " (6, 0.11261572688817978),\n",
       " (35, 0.10047830641269684),\n",
       " (73, 0.09957148134708405),\n",
       " (55, 0.09569621086120605),\n",
       " (49, 0.09443660080432892),\n",
       " (65, 0.0888744667172432),\n",
       " (16, 0.084089495241642),\n",
       " (48, 0.0828271210193634),\n",
       " (51, 0.08260615170001984),\n",
       " (38, 0.08224225789308548),\n",
       " (44, 0.08089689165353775),\n",
       " (4, 0.0720432922244072),\n",
       " (9, 0.06576717644929886),\n",
       " (1, 0.06049060821533203),\n",
       " (37, 0.05924524739384651),\n",
       " (61, 0.05786775052547455),\n",
       " (23, 0.05773860588669777),\n",
       " (20, 0.056785378605127335),\n",
       " (36, 0.0538860559463501),\n",
       " (8, 0.051988862454891205),\n",
       " (53, 0.04661101475358009),\n",
       " (22, 0.04216742515563965),\n",
       " (66, 0.03601370006799698),\n",
       " (74, 0.03453782573342323),\n",
       " (30, 0.028231332078576088),\n",
       " (39, 0.026695286855101585),\n",
       " (46, 0.02621426060795784),\n",
       " (69, 0.02611055038869381),\n",
       " (42, 0.023006131872534752),\n",
       " (62, 0.022718748077750206),\n",
       " (19, 0.02126481756567955),\n",
       " (5, 0.020947633311152458),\n",
       " (10, 0.01202533021569252),\n",
       " (7, 0.006085413508117199),\n",
       " (41, -0.001999550499022007),\n",
       " (67, -0.009202929213643074),\n",
       " (57, -0.012687915936112404),\n",
       " (59, -0.016897471621632576),\n",
       " (43, -0.022600891068577766),\n",
       " (40, -0.02310601994395256),\n",
       " (60, -0.02437943033874035),\n",
       " (29, -0.032411083579063416),\n",
       " (18, -0.03423517197370529),\n",
       " (31, -0.034465789794921875),\n",
       " (28, -0.03881938382983208),\n",
       " (58, -0.043304093182086945),\n",
       " (52, -0.04668392241001129),\n",
       " (2, -0.04733923450112343),\n",
       " (33, -0.04761281609535217),\n",
       " (63, -0.048356302082538605),\n",
       " (14, -0.05182156711816788),\n",
       " (11, -0.061660174280405045),\n",
       " (13, -0.062205828726291656),\n",
       " (27, -0.06984546780586243),\n",
       " (17, -0.07095503062009811),\n",
       " (45, -0.07401315867900848),\n",
       " (54, -0.07585069537162781),\n",
       " (0, -0.08628924936056137),\n",
       " (75, -0.08648540824651718),\n",
       " (50, -0.09175139665603638),\n",
       " (26, -0.09237723797559738),\n",
       " (25, -0.09246568381786346),\n",
       " (71, -0.09612654894590378),\n",
       " (70, -0.10948149859905243),\n",
       " (34, -0.11289462447166443),\n",
       " (15, -0.14044611155986786),\n",
       " (3, -0.15411674976348877),\n",
       " (12, -0.1651841253042221),\n",
       " (68, -0.1732524335384369),\n",
       " (47, -0.17779086530208588)]"
      ]
     },
     "execution_count": 61,
     "metadata": {},
     "output_type": "execute_result"
    }
   ],
   "source": [
    "test = \"民調 六都施政滿意度！盧秀燕破七成奪冠　他衝第三緊咬陳其邁\" \n",
    "test = jieba.lcut(test)\n",
    "test_vector = model.infer_vector(test)\n",
    "model.dv.most_similar([test_vector], topn=len(model.dv))"
   ]
  },
  {
   "cell_type": "code",
   "execution_count": 35,
   "metadata": {},
   "outputs": [],
   "source": [
    "model.save(\"./output/doc2vec_2023.d2v\")"
   ]
  },
  {
   "cell_type": "markdown",
   "metadata": {},
   "source": [
    "### word embemmding  -- Word2Vec"
   ]
  },
  {
   "cell_type": "code",
   "execution_count": 70,
   "metadata": {},
   "outputs": [],
   "source": [
    "word2vec = Word2Vec(word_list, vector_size=250, epochs=10, sg=1)"
   ]
  },
  {
   "cell_type": "code",
   "execution_count": 71,
   "metadata": {},
   "outputs": [],
   "source": [
    "word2vec.save(\"./output/word2vec_2023.w2v\")"
   ]
  },
  {
   "cell_type": "code",
   "execution_count": 73,
   "metadata": {},
   "outputs": [],
   "source": [
    "import numpy as np"
   ]
  },
  {
   "cell_type": "code",
   "execution_count": 82,
   "metadata": {},
   "outputs": [
    {
     "name": "stdout",
     "output_type": "stream",
     "text": [
      "文本的特徵向量: [-3.55864525e+00  7.57046795e+00  4.11416435e+00 -7.19501066e+00\n",
      " -8.54550076e+00 -1.70852890e+01  1.13265104e+01 -1.29841423e+01\n",
      "  3.22108459e+00 -6.18759108e+00 -4.50612116e+00  2.10676742e+00\n",
      " -9.46172619e+00 -1.44602785e+01  3.58402014e+00 -1.27542710e+00\n",
      "  1.73780270e+01  6.77771521e+00 -8.19639015e+00 -1.01580763e+01\n",
      " -7.58840513e+00  1.80167046e+01  1.36039314e+01  1.58508692e+01\n",
      " -6.29196882e+00  3.32420397e+00  1.68356371e+00  3.71187806e-01\n",
      " -5.94329071e+00 -8.32559586e+00  1.92586327e+01  8.09424210e+00\n",
      "  4.79435921e-03  1.29425454e+00 -3.04595470e-01  1.08792343e+01\n",
      "  2.18994904e+01 -7.10358620e+00 -6.73931932e+00 -7.73047256e+00\n",
      " -6.85317898e+00 -9.47985172e+00  1.55379906e+01 -1.33466072e+01\n",
      " -6.53804421e-01  1.14518394e+01  1.83512058e+01  6.82422280e-01\n",
      " -1.47229652e+01  7.07719231e+00  3.26442289e+00  5.65034866e+00\n",
      "  3.68283582e+00 -1.58790503e+01  5.36352634e+00  8.34086323e+00\n",
      "  1.11622000e+00  5.94711876e+00 -2.52697983e+01 -1.55839806e+01\n",
      " -2.34279060e+00  7.95998931e-01  4.31534767e+00  1.46074831e-01\n",
      "  3.69568253e+00 -8.75243855e+00 -1.30102415e+01  7.78121567e+00\n",
      "  1.96252785e+01  7.13069296e+00 -7.41194296e+00 -7.61296988e+00\n",
      "  1.97559547e+00  6.84408522e+00 -5.67520571e+00 -1.76180685e+00\n",
      " -2.75002217e+00  1.26825720e-01  1.42113924e+01  1.47859383e+00\n",
      "  5.56720853e-01 -1.11370535e+01  1.50351734e+01 -1.83593979e+01\n",
      " -8.87848258e-01 -7.44980240e+00 -6.04164553e+00  1.22412472e+01\n",
      "  1.81912243e+00  8.49816895e+00  2.38280449e+01  9.46449661e+00\n",
      "  2.52927876e+00 -2.68604302e+00 -1.08633881e+01 -3.84475136e+00\n",
      "  7.10300541e+00 -6.40578938e+00  3.97425675e+00 -1.02564380e-01\n",
      " -1.75407124e+00  6.55827808e+00 -1.07223082e+01  9.83286667e+00\n",
      "  6.67329073e+00  2.13390470e+00  9.56952763e+00 -1.13465652e+01\n",
      " -2.53115773e+00 -8.62190664e-01 -7.22381175e-01 -2.48164296e+00\n",
      " -9.08012581e+00 -1.42815723e+01  1.78424180e+00 -1.02522755e+01\n",
      " -1.99885321e+00 -1.02458038e+01 -9.14892483e+00 -5.45252132e+00\n",
      "  8.34705734e+00 -1.64488316e+01  9.41490078e+00 -7.69386578e+00\n",
      " -1.53538818e+01 -1.99079800e+01 -5.65265179e+00 -4.02332926e+00\n",
      " -4.92872715e+00  2.61648011e+00  6.32241821e+00  2.43514419e+00\n",
      " -1.58907735e+00  1.41474390e+01 -1.65416145e+01 -1.72799454e+01\n",
      " -9.34227180e+00 -7.60541439e+00  1.40008459e+01 -6.82608557e+00\n",
      " -3.26151085e+00 -1.54421644e+01 -1.09173336e+01  7.34115171e+00\n",
      " -1.36921632e+00 -3.50184411e-01  8.98519516e+00 -3.64195681e+00\n",
      " -1.29826283e+00  1.02487612e+01  5.86979628e+00 -4.04040384e+00\n",
      "  7.64950454e-01  7.58437157e+00 -1.05775385e+01 -1.03095064e+01\n",
      " -1.43906152e+00 -2.40893960e+00 -1.67716999e+01 -1.29577103e+01\n",
      " -1.51847162e+01 -8.57159519e+00 -2.44655466e+00  6.58483446e-01\n",
      " -4.14197636e+00  1.86811447e+01  2.05148315e+00  9.78344631e+00\n",
      " -1.97967281e+01  1.89531860e+01 -1.66100025e+00  5.75952864e+00\n",
      " -6.53101587e+00  1.46201811e+01 -2.85246015e+00  1.56062679e+01\n",
      " -1.24883738e+01 -7.18200302e+00  1.08546889e+00 -4.35847938e-01\n",
      " -5.98962688e+00  8.05187988e+00 -1.48509235e+01 -1.73834550e+00\n",
      " -5.04183149e+00  5.38043213e+00 -1.23012037e+01 -9.50139904e+00\n",
      " -1.33872414e+01  2.24042058e+00  3.17345834e+00  7.22652435e+00\n",
      "  2.92255282e-01 -6.34964323e+00 -7.32089996e+00  1.01658611e+01\n",
      "  8.96210289e+00 -4.10068780e-01 -1.61426473e+00 -6.46463299e+00\n",
      "  1.02668619e+01 -4.42307138e+00  3.83103895e+00 -2.65052299e+01\n",
      " -8.57379818e+00 -1.46145039e+01  2.01272917e+00 -1.00032721e+01\n",
      " -2.70060802e+00  1.27099504e+01  2.50483680e+00  7.91980791e+00\n",
      " -9.15726471e+00 -7.57266808e+00 -1.51542151e+00  1.00976181e+01\n",
      " -1.18421822e+01  5.77675724e+00  4.77325153e+00 -1.08972282e+01\n",
      "  4.57609177e+00 -1.67046368e+00  4.24189997e+00  6.78493619e-01\n",
      "  1.00104084e+01 -8.52616024e+00  5.79143047e-01  9.81701279e+00\n",
      "  3.61199641e+00 -1.22228756e+01 -9.50108528e+00  1.25635786e+01\n",
      "  2.00756969e+01  1.25828922e+00  6.04212236e+00  4.47232771e+00\n",
      "  2.47107148e+00  8.69495511e-01 -1.26366162e+00 -3.04451132e+00\n",
      " -8.65802383e+00 -4.32691193e+00 -5.93288755e+00  1.44777699e+01\n",
      " -5.51678562e+00  7.14481544e+00  9.76377678e+00 -1.36634245e+01\n",
      "  4.69711447e+00 -8.87276936e+00]\n"
     ]
    }
   ],
   "source": [
    "word = \"農曆春節天氣冷颼颼，受強烈大陸冷氣團、輻射冷卻影響，中央氣象署指出，儘管明（11）日大年初二多雲到晴，北部和東北部依舊寒冷，其他地區早晚也陷入低溫。尤其西半部日夜溫差甚大，恐怕跌破8度，而這波影響也將持續到初三清晨，提醒民眾時刻注意保暖。\"\n",
    "model = word2vec\n",
    "def calculate_text_feature(word, model):\n",
    "\n",
    "    # 初始化特徵向量\n",
    "    text_feature = np.zeros((model.vector_size,), dtype=np.float32)\n",
    "    # 計算每個詞的嵌入式向量並加總\n",
    "    for word in word:\n",
    "        if word in model.wv:\n",
    "            text_feature += model.wv[word]\n",
    "    # 取平均\n",
    "    text_feature /= len(word)\n",
    "    return text_feature\n",
    "\n",
    "# 計算文本的特徵向量\n",
    "feature_vector = calculate_text_feature(word, model)\n",
    "print(\"文本的特徵向量:\", feature_vector)"
   ]
  },
  {
   "cell_type": "code",
   "execution_count": null,
   "metadata": {},
   "outputs": [],
   "source": []
  }
 ],
 "metadata": {
  "kernelspec": {
   "display_name": "Python 3",
   "language": "python",
   "name": "python3"
  },
  "language_info": {
   "codemirror_mode": {
    "name": "ipython",
    "version": 3
   },
   "file_extension": ".py",
   "mimetype": "text/x-python",
   "name": "python",
   "nbconvert_exporter": "python",
   "pygments_lexer": "ipython3",
   "version": "3.9.6"
  },
  "orig_nbformat": 4
 },
 "nbformat": 4,
 "nbformat_minor": 2
}
