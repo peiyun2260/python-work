{
 "cells": [
  {
   "cell_type": "code",
   "execution_count": 4,
   "id": "77bedd11",
   "metadata": {},
   "outputs": [],
   "source": [
    "%matplotlib inline\n",
    "\n",
    "import numpy as np\n",
    "import pandas as pd\n",
    "import matplotlib.pyplot as plt"
   ]
  },
  {
   "cell_type": "markdown",
   "id": "a08c0bbb",
   "metadata": {},
   "source": [
    "## 利用遞歸神經網路RNN做情意分析"
   ]
  },
  {
   "cell_type": "code",
   "execution_count": 7,
   "id": "81983376",
   "metadata": {},
   "outputs": [],
   "source": [
    "from tensorflow.keras.preprocessing import sequence\n",
    "from tensorflow.keras.models import Sequential\n",
    "from tensorflow.keras.layers import Dense, Embedding\n",
    "from tensorflow.keras.layers import LSTM\n",
    "from tensorflow.keras.datasets import imdb"
   ]
  },
  {
   "cell_type": "markdown",
   "id": "543199f5",
   "metadata": {},
   "source": [
    "#### 1. 讀入IMDB數據集"
   ]
  },
  {
   "cell_type": "code",
   "execution_count": 8,
   "id": "04ea4b73",
   "metadata": {},
   "outputs": [
    {
     "name": "stdout",
     "output_type": "stream",
     "text": [
      "Downloading data from https://storage.googleapis.com/tensorflow/tf-keras-datasets/imdb.npz\n",
      "17464789/17464789 [==============================] - 2s 0us/step\n"
     ]
    }
   ],
   "source": [
    "(x_train, y_train), (x_test, y_test) = imdb.load_data(num_words=10000)"
   ]
  },
  {
   "cell_type": "markdown",
   "id": "240a7982",
   "metadata": {},
   "source": [
    "#### 2. 資料處理"
   ]
  },
  {
   "cell_type": "code",
   "execution_count": 9,
   "id": "742e9ad5",
   "metadata": {},
   "outputs": [],
   "source": [
    "x_train = sequence.pad_sequences(x_train, maxlen=100)\n",
    "x_test = sequence.pad_sequences(x_test, maxlen=100)"
   ]
  },
  {
   "cell_type": "markdown",
   "id": "986fbbd8",
   "metadata": {},
   "source": [
    "#### 3. 打造神經網路"
   ]
  },
  {
   "cell_type": "code",
   "execution_count": 10,
   "id": "5a6fcc75",
   "metadata": {},
   "outputs": [
    {
     "name": "stderr",
     "output_type": "stream",
     "text": [
      "2022-11-18 11:11:10.220796: I tensorflow/core/platform/cpu_feature_guard.cc:193] This TensorFlow binary is optimized with oneAPI Deep Neural Network Library (oneDNN) to use the following CPU instructions in performance-critical operations:  AVX2 FMA\n",
      "To enable them in other operations, rebuild TensorFlow with the appropriate compiler flags.\n"
     ]
    }
   ],
   "source": [
    "model = Sequential()"
   ]
  },
  {
   "cell_type": "code",
   "execution_count": 11,
   "id": "9c00175d",
   "metadata": {},
   "outputs": [],
   "source": [
    "model.add(Embedding(10000, 128))"
   ]
  },
  {
   "cell_type": "code",
   "execution_count": 12,
   "id": "d85d74f3",
   "metadata": {},
   "outputs": [],
   "source": [
    "model.add(LSTM(128))"
   ]
  },
  {
   "cell_type": "code",
   "execution_count": 13,
   "id": "db5e6e7e",
   "metadata": {},
   "outputs": [],
   "source": [
    "model.add(Dense(1, activation='sigmoid'))"
   ]
  },
  {
   "cell_type": "markdown",
   "id": "bcdd2fdb",
   "metadata": {},
   "source": [
    "#### 組裝"
   ]
  },
  {
   "cell_type": "code",
   "execution_count": 14,
   "id": "e3aa3be8",
   "metadata": {},
   "outputs": [],
   "source": [
    "model.compile(loss='binary_crossentropy',\n",
    "             optimizer='adam',\n",
    "             metrics=['accuracy'])"
   ]
  },
  {
   "cell_type": "code",
   "execution_count": 15,
   "id": "3b0a253d",
   "metadata": {},
   "outputs": [
    {
     "name": "stdout",
     "output_type": "stream",
     "text": [
      "Model: \"sequential\"\n",
      "_________________________________________________________________\n",
      " Layer (type)                Output Shape              Param #   \n",
      "=================================================================\n",
      " embedding (Embedding)       (None, None, 128)         1280000   \n",
      "                                                                 \n",
      " lstm (LSTM)                 (None, 128)               131584    \n",
      "                                                                 \n",
      " dense (Dense)               (None, 1)                 129       \n",
      "                                                                 \n",
      "=================================================================\n",
      "Total params: 1,411,713\n",
      "Trainable params: 1,411,713\n",
      "Non-trainable params: 0\n",
      "_________________________________________________________________\n"
     ]
    }
   ],
   "source": [
    "model.summary()"
   ]
  },
  {
   "cell_type": "code",
   "execution_count": 17,
   "id": "d67661af",
   "metadata": {},
   "outputs": [
    {
     "name": "stdout",
     "output_type": "stream",
     "text": [
      "Epoch 1/10\n",
      "782/782 [==============================] - 148s 184ms/step - loss: 0.4241 - accuracy: 0.8007 - val_loss: 0.3816 - val_accuracy: 0.8345\n",
      "Epoch 2/10\n",
      "782/782 [==============================] - 163s 208ms/step - loss: 0.2676 - accuracy: 0.8917 - val_loss: 0.3482 - val_accuracy: 0.8496\n",
      "Epoch 3/10\n",
      "782/782 [==============================] - 203s 260ms/step - loss: 0.1835 - accuracy: 0.9305 - val_loss: 0.3867 - val_accuracy: 0.8371\n",
      "Epoch 4/10\n",
      "782/782 [==============================] - 215s 275ms/step - loss: 0.1293 - accuracy: 0.9524 - val_loss: 0.4766 - val_accuracy: 0.8338\n",
      "Epoch 5/10\n",
      "782/782 [==============================] - 188s 241ms/step - loss: 0.0928 - accuracy: 0.9681 - val_loss: 0.5473 - val_accuracy: 0.8386\n",
      "Epoch 6/10\n",
      "782/782 [==============================] - 170s 217ms/step - loss: 0.0629 - accuracy: 0.9785 - val_loss: 0.6240 - val_accuracy: 0.8334\n",
      "Epoch 7/10\n",
      "782/782 [==============================] - 181s 232ms/step - loss: 0.0469 - accuracy: 0.9848 - val_loss: 0.7215 - val_accuracy: 0.8229\n",
      "Epoch 8/10\n",
      "782/782 [==============================] - 187s 239ms/step - loss: 0.0407 - accuracy: 0.9869 - val_loss: 0.6864 - val_accuracy: 0.8256\n",
      "Epoch 9/10\n",
      "782/782 [==============================] - 159s 203ms/step - loss: 0.0334 - accuracy: 0.9890 - val_loss: 0.8433 - val_accuracy: 0.8350\n",
      "Epoch 10/10\n",
      "782/782 [==============================] - 189s 242ms/step - loss: 0.0216 - accuracy: 0.9938 - val_loss: 0.7635 - val_accuracy: 0.8256\n"
     ]
    },
    {
     "data": {
      "text/plain": [
       "<keras.callbacks.History at 0x7fa3319b8370>"
      ]
     },
     "execution_count": 17,
     "metadata": {},
     "output_type": "execute_result"
    }
   ],
   "source": [
    "model.fit(x_train, y_train, batch_size=32, epochs=10,\n",
    "         validation_data=(x_test, y_test))"
   ]
  },
  {
   "cell_type": "markdown",
   "id": "a8c59a02",
   "metadata": {},
   "source": [
    "#### 測試"
   ]
  },
  {
   "cell_type": "code",
   "execution_count": 18,
   "id": "6308a75d",
   "metadata": {},
   "outputs": [],
   "source": [
    "from tensorflow.keras.datasets.imdb import get_word_index"
   ]
  },
  {
   "cell_type": "code",
   "execution_count": 19,
   "id": "bf6f9088",
   "metadata": {},
   "outputs": [
    {
     "name": "stdout",
     "output_type": "stream",
     "text": [
      "Downloading data from https://storage.googleapis.com/tensorflow/tf-keras-datasets/imdb_word_index.json\n",
      "1641221/1641221 [==============================] - 0s 0us/step\n"
     ]
    }
   ],
   "source": [
    "word_index = get_word_index()"
   ]
  },
  {
   "cell_type": "code",
   "execution_count": 20,
   "id": "b4607973",
   "metadata": {},
   "outputs": [],
   "source": [
    "text = \"this movie is worth seeing\""
   ]
  },
  {
   "cell_type": "code",
   "execution_count": 23,
   "id": "5c6eaa6f",
   "metadata": {},
   "outputs": [],
   "source": [
    "seq = [word_index[x] for x in text.split()]"
   ]
  },
  {
   "cell_type": "code",
   "execution_count": 24,
   "id": "bb903055",
   "metadata": {},
   "outputs": [
    {
     "name": "stdout",
     "output_type": "stream",
     "text": [
      "1/1 [==============================] - 1s 577ms/step\n"
     ]
    },
    {
     "data": {
      "text/plain": [
       "array([[0.8669965]], dtype=float32)"
      ]
     },
     "execution_count": 24,
     "metadata": {},
     "output_type": "execute_result"
    }
   ],
   "source": [
    "model.predict([seq])"
   ]
  },
  {
   "cell_type": "code",
   "execution_count": 25,
   "id": "d3825370",
   "metadata": {},
   "outputs": [],
   "source": [
    "text = \"could of been so much better if properly cast directed and a better script\""
   ]
  },
  {
   "cell_type": "code",
   "execution_count": 27,
   "id": "5421f9c6",
   "metadata": {},
   "outputs": [],
   "source": [
    "seq = [word_index[x] for x in text.split()]"
   ]
  },
  {
   "cell_type": "code",
   "execution_count": 28,
   "id": "e472a753",
   "metadata": {},
   "outputs": [
    {
     "name": "stdout",
     "output_type": "stream",
     "text": [
      "1/1 [==============================] - 0s 465ms/step\n"
     ]
    },
    {
     "data": {
      "text/plain": [
       "array([[0.48918977]], dtype=float32)"
      ]
     },
     "execution_count": 28,
     "metadata": {},
     "output_type": "execute_result"
    }
   ],
   "source": [
    "model.predict([seq])"
   ]
  },
  {
   "cell_type": "code",
   "execution_count": null,
   "id": "35bb0fcb",
   "metadata": {},
   "outputs": [],
   "source": []
  }
 ],
 "metadata": {
  "kernelspec": {
   "display_name": "Python 3 (ipykernel)",
   "language": "python",
   "name": "python3"
  },
  "language_info": {
   "codemirror_mode": {
    "name": "ipython",
    "version": 3
   },
   "file_extension": ".py",
   "mimetype": "text/x-python",
   "name": "python",
   "nbconvert_exporter": "python",
   "pygments_lexer": "ipython3",
   "version": "3.9.7"
  }
 },
 "nbformat": 4,
 "nbformat_minor": 5
}
